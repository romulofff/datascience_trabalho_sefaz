{
 "cells": [
  {
   "cell_type": "markdown",
   "metadata": {},
   "source": [
    "### Pré-processamento"
   ]
  },
  {
   "cell_type": "code",
   "execution_count": 259,
   "metadata": {},
   "outputs": [],
   "source": [
    "# Importando libs para análise\n",
    "import numpy as np\n",
    "import pandas as pd\n",
    "import re"
   ]
  },
  {
   "cell_type": "code",
   "execution_count": 260,
   "metadata": {},
   "outputs": [
    {
     "data": {
      "text/html": [
       "<div>\n",
       "<style scoped>\n",
       "    .dataframe tbody tr th:only-of-type {\n",
       "        vertical-align: middle;\n",
       "    }\n",
       "\n",
       "    .dataframe tbody tr th {\n",
       "        vertical-align: top;\n",
       "    }\n",
       "\n",
       "    .dataframe thead th {\n",
       "        text-align: right;\n",
       "    }\n",
       "</style>\n",
       "<table border=\"1\" class=\"dataframe\">\n",
       "  <thead>\n",
       "    <tr style=\"text-align: right;\">\n",
       "      <th></th>\n",
       "      <th>title</th>\n",
       "      <th>content</th>\n",
       "    </tr>\n",
       "  </thead>\n",
       "  <tbody>\n",
       "    <tr>\n",
       "      <th>0</th>\n",
       "      <td>Ato Declaratorio Interpretativo SRF nº 15, de ...</td>\n",
       "      <td>Ato Declaratório Interpretativo SRF nº 15, de ...</td>\n",
       "    </tr>\n",
       "    <tr>\n",
       "      <th>1</th>\n",
       "      <td>Ato Declaratorio nº 01, de 2013</td>\n",
       "      <td>* Publicado no DOE em 01/02/2013 ATO DECLARA...</td>\n",
       "    </tr>\n",
       "    <tr>\n",
       "      <th>2</th>\n",
       "      <td>Ato Declaratorio nº 02, de 2013</td>\n",
       "      <td>* Publicado no DOE em 01/02/2013 ATO DECLARA...</td>\n",
       "    </tr>\n",
       "    <tr>\n",
       "      <th>3</th>\n",
       "      <td>Ato Declaratório nº 01, de 1998</td>\n",
       "      <td>ATO DECLARATÓRIO Nº 01/1998 07/01/1998 * Publi...</td>\n",
       "    </tr>\n",
       "    <tr>\n",
       "      <th>4</th>\n",
       "      <td>Ato Declaratório nº 01, de 1999</td>\n",
       "      <td>ATO DECLARATÓRIO Nº 01/1999 14/01/1999 * Publi...</td>\n",
       "    </tr>\n",
       "  </tbody>\n",
       "</table>\n",
       "</div>"
      ],
      "text/plain": [
       "                                               title  \\\n",
       "0  Ato Declaratorio Interpretativo SRF nº 15, de ...   \n",
       "1                    Ato Declaratorio nº 01, de 2013   \n",
       "2                    Ato Declaratorio nº 02, de 2013   \n",
       "3                    Ato Declaratório nº 01, de 1998   \n",
       "4                    Ato Declaratório nº 01, de 1999   \n",
       "\n",
       "                                             content  \n",
       "0  Ato Declaratório Interpretativo SRF nº 15, de ...  \n",
       "1    * Publicado no DOE em 01/02/2013 ATO DECLARA...  \n",
       "2    * Publicado no DOE em 01/02/2013 ATO DECLARA...  \n",
       "3  ATO DECLARATÓRIO Nº 01/1998 07/01/1998 * Publi...  \n",
       "4  ATO DECLARATÓRIO Nº 01/1999 14/01/1999 * Publi...  "
      ]
     },
     "execution_count": 260,
     "metadata": {},
     "output_type": "execute_result"
    }
   ],
   "source": [
    "# Obtendo dados\n",
    "df = pd.read_csv('dataset.csv')\n",
    "df.columns = df.columns.str.lower()\n",
    "df.head()"
   ]
  },
  {
   "cell_type": "code",
   "execution_count": 261,
   "metadata": {},
   "outputs": [
    {
     "data": {
      "text/plain": [
       "3606"
      ]
     },
     "execution_count": 261,
     "metadata": {},
     "output_type": "execute_result"
    }
   ],
   "source": [
    "# Tamanho do dataset\n",
    "df.shape[0]"
   ]
  },
  {
   "cell_type": "markdown",
   "metadata": {},
   "source": [
    "### Verificando por dados faltantes"
   ]
  },
  {
   "cell_type": "code",
   "execution_count": 262,
   "metadata": {},
   "outputs": [
    {
     "data": {
      "text/plain": [
       "title      0\n",
       "content    2\n",
       "dtype: int64"
      ]
     },
     "execution_count": 262,
     "metadata": {},
     "output_type": "execute_result"
    }
   ],
   "source": [
    "# Verificando por dados faltantes\n",
    "df.isnull().sum()"
   ]
  },
  {
   "cell_type": "code",
   "execution_count": 263,
   "metadata": {},
   "outputs": [
    {
     "data": {
      "text/plain": [
       "3604"
      ]
     },
     "execution_count": 263,
     "metadata": {},
     "output_type": "execute_result"
    }
   ],
   "source": [
    "# Removendo dados faltantes\n",
    "df.dropna(inplace=True)\n",
    "# Novo tamanho do dataset\n",
    "df.shape[0]"
   ]
  },
  {
   "cell_type": "markdown",
   "metadata": {},
   "source": [
    "### Verificando por ambiguidades"
   ]
  },
  {
   "cell_type": "code",
   "execution_count": 264,
   "metadata": {},
   "outputs": [],
   "source": [
    "tipos_de_documentos = [\"ato declaratório\", \"ato declaratorio\", \"decreto\", \"instrução normativa\", \n",
    "                      \"lei\", \"lei complementar\", \"norma de execução\", \"nota explicativa\"]"
   ]
  },
  {
   "cell_type": "code",
   "execution_count": 266,
   "metadata": {},
   "outputs": [
    {
     "data": {
      "text/plain": [
       "0    Ato Declaratorio Interpretativo SRF nº 15, de ...\n",
       "1                      Ato Declaratorio nº 01, de 2013\n",
       "2                      Ato Declaratorio nº 02, de 2013\n",
       "3                      Ato Declaratório nº 01, de 1998\n",
       "4                      Ato Declaratório nº 01, de 1999\n",
       "Name: title, dtype: object"
      ]
     },
     "execution_count": 266,
     "metadata": {},
     "output_type": "execute_result"
    }
   ],
   "source": [
    "df['title'].head()"
   ]
  },
  {
   "cell_type": "code",
   "execution_count": 267,
   "metadata": {},
   "outputs": [],
   "source": [
    "def num_ocorrencias(documento):\n",
    "    \"\"\"Conta o número de ocorrências para cada tipo de classe de documento\"\"\"\n",
    "    return df['title'].apply(lambda t: bool(re.match(documento, t.lower()))).sum()\n",
    "\n",
    "def indices_ocorrencias(documento):\n",
    "    \"\"\"Gera uma lista de índices para cada ocorrência de tipo de classe de documento\"\"\"\n",
    "    return df.index[df['title'].apply(lambda t: bool(re.match(documento, t.lower())))].tolist()\n",
    "\n",
    "\n",
    "dist_documentos = [num_ocorrencias(documento) for documento in tipos_de_documentos]\n",
    "indices_documentos = [indices_ocorrencias(documento) for documento in tipos_de_documentos]"
   ]
  },
  {
   "cell_type": "code",
   "execution_count": 268,
   "metadata": {},
   "outputs": [
    {
     "name": "stdout",
     "output_type": "stream",
     "text": [
      "Distribuição das classes:\n",
      "\n",
      "0 ato declaratório 669\n",
      "1 ato declaratorio 3\n",
      "2 decreto 1024\n",
      "3 instrução normativa 1376\n",
      "4 lei 331\n",
      "5 lei complementar 72\n",
      "6 norma de execução 117\n",
      "7 nota explicativa 84\n",
      "\n",
      "Total: 3676\n"
     ]
    }
   ],
   "source": [
    "indice = 0\n",
    "\n",
    "print(\"Distribuição das classes:\\n\")\n",
    "\n",
    "for documento, qtd in zip(tipos_de_documentos, dist_documentos):\n",
    "    print(indice, documento, qtd)\n",
    "    indice += 1\n",
    "\n",
    "print(\"\\nTotal:\", sum(dist_documentos))"
   ]
  },
  {
   "cell_type": "markdown",
   "metadata": {},
   "source": [
    "Há alguma diferença no número de exemplares de classes total e o número total de dados?"
   ]
  },
  {
   "cell_type": "code",
   "execution_count": 269,
   "metadata": {},
   "outputs": [
    {
     "data": {
      "text/plain": [
       "(3604, 3676)"
      ]
     },
     "execution_count": 269,
     "metadata": {},
     "output_type": "execute_result"
    }
   ],
   "source": [
    "df.shape[0], sum(dist_documentos)"
   ]
  },
  {
   "cell_type": "code",
   "execution_count": 270,
   "metadata": {},
   "outputs": [
    {
     "name": "stdout",
     "output_type": "stream",
     "text": [
      "i: 4 j: 5\n",
      "i: 5 j: 4\n"
     ]
    }
   ],
   "source": [
    "conjs_indices_documentos = [set(lista) for lista in indices_documentos]\n",
    "\n",
    "# Observando se há interseções entre os índices dois a dois (i.e. se há dados com duas classes)\n",
    "for i in range(0, 8):\n",
    "    for j in range(0, 8):\n",
    "        if i != j and set.intersection(conjs_indices_documentos[i], conjs_indices_documentos[j]):\n",
    "            print(f\"i: {i} j: {j}\")"
   ]
  },
  {
   "cell_type": "code",
   "execution_count": 271,
   "metadata": {},
   "outputs": [
    {
     "data": {
      "text/plain": [
       "3077    Lei Complementar 0024, de 1975 (Cópia em Traba...\n",
       "3078    Lei Complementar 0024, de 1975 (Cópia em Traba...\n",
       "3079    Lei Complementar 0024, de 1975 (Cópia em Traba...\n",
       "3080    Lei Complementar 0024, de 1975 (Cópia em Traba...\n",
       "3081    Lei Complementar 0024, de 1975 (Cópia em Traba...\n",
       "                              ...                        \n",
       "3144                      Lei Complementar nº 50, de 2004\n",
       "3145                      Lei Complementar nº 81, de 2009\n",
       "3146                      Lei Complementar nº 81, de 2009\n",
       "3147                               Lei n° 08.137, de 1990\n",
       "3148                               Lei n° 08.397, de 1992\n",
       "Name: title, Length: 72, dtype: object"
      ]
     },
     "execution_count": 271,
     "metadata": {},
     "output_type": "execute_result"
    }
   ],
   "source": [
    "intersect_lista = [el for el in set.intersection(conjs_indices_documentos[4], conjs_indices_documentos[5])]\n",
    "df['title'].iloc[df.index[intersect_lista]]"
   ]
  },
  {
   "cell_type": "markdown",
   "metadata": {},
   "source": [
    "Os dados supostamente ambíguos referem-se a títulos com a palavra \"lei\", mas definimos duas classes diferentes, i.e., \"lei\" e \"lei complementar\". Uma vez que a palavra *lei* é encontrada em ambos, não há problemas. Como a classe é contada duas vezes, retiremos a diferença:"
   ]
  },
  {
   "cell_type": "code",
   "execution_count": 272,
   "metadata": {},
   "outputs": [
    {
     "data": {
      "text/plain": [
       "(3604, 3604)"
      ]
     },
     "execution_count": 272,
     "metadata": {},
     "output_type": "execute_result"
    }
   ],
   "source": [
    "sum(dist_documentos) - len(intersect_lista), df.shape[0] # (Diferença, Tamanho real do dataset)"
   ]
  },
  {
   "cell_type": "markdown",
   "metadata": {},
   "source": [
    "Aparentemente, não há ambiguidade nos títulos. Podemos separar os dados nas classes que definimos."
   ]
  },
  {
   "cell_type": "code",
   "execution_count": 273,
   "metadata": {},
   "outputs": [
    {
     "data": {
      "text/html": [
       "<div>\n",
       "<style scoped>\n",
       "    .dataframe tbody tr th:only-of-type {\n",
       "        vertical-align: middle;\n",
       "    }\n",
       "\n",
       "    .dataframe tbody tr th {\n",
       "        vertical-align: top;\n",
       "    }\n",
       "\n",
       "    .dataframe thead th {\n",
       "        text-align: right;\n",
       "    }\n",
       "</style>\n",
       "<table border=\"1\" class=\"dataframe\">\n",
       "  <thead>\n",
       "    <tr style=\"text-align: right;\">\n",
       "      <th></th>\n",
       "      <th>title</th>\n",
       "      <th>content</th>\n",
       "    </tr>\n",
       "  </thead>\n",
       "  <tbody>\n",
       "    <tr>\n",
       "      <th>0</th>\n",
       "      <td>Ato Declaratorio Interpretativo SRF nº 15, de ...</td>\n",
       "      <td>Ato Declaratório Interpretativo SRF nº 15, de ...</td>\n",
       "    </tr>\n",
       "    <tr>\n",
       "      <th>1</th>\n",
       "      <td>Ato Declaratorio nº 01, de 2013</td>\n",
       "      <td>* Publicado no DOE em 01/02/2013 ATO DECLARA...</td>\n",
       "    </tr>\n",
       "    <tr>\n",
       "      <th>2</th>\n",
       "      <td>Ato Declaratorio nº 02, de 2013</td>\n",
       "      <td>* Publicado no DOE em 01/02/2013 ATO DECLARA...</td>\n",
       "    </tr>\n",
       "    <tr>\n",
       "      <th>3</th>\n",
       "      <td>Ato Declaratório nº 01, de 1998</td>\n",
       "      <td>ATO DECLARATÓRIO Nº 01/1998 07/01/1998 * Publi...</td>\n",
       "    </tr>\n",
       "    <tr>\n",
       "      <th>4</th>\n",
       "      <td>Ato Declaratório nº 01, de 1999</td>\n",
       "      <td>ATO DECLARATÓRIO Nº 01/1999 14/01/1999 * Publi...</td>\n",
       "    </tr>\n",
       "  </tbody>\n",
       "</table>\n",
       "</div>"
      ],
      "text/plain": [
       "                                               title  \\\n",
       "0  Ato Declaratorio Interpretativo SRF nº 15, de ...   \n",
       "1                    Ato Declaratorio nº 01, de 2013   \n",
       "2                    Ato Declaratorio nº 02, de 2013   \n",
       "3                    Ato Declaratório nº 01, de 1998   \n",
       "4                    Ato Declaratório nº 01, de 1999   \n",
       "\n",
       "                                             content  \n",
       "0  Ato Declaratório Interpretativo SRF nº 15, de ...  \n",
       "1    * Publicado no DOE em 01/02/2013 ATO DECLARA...  \n",
       "2    * Publicado no DOE em 01/02/2013 ATO DECLARA...  \n",
       "3  ATO DECLARATÓRIO Nº 01/1998 07/01/1998 * Publi...  \n",
       "4  ATO DECLARATÓRIO Nº 01/1999 14/01/1999 * Publi...  "
      ]
     },
     "execution_count": 273,
     "metadata": {},
     "output_type": "execute_result"
    }
   ],
   "source": [
    "df.head()"
   ]
  },
  {
   "cell_type": "code",
   "execution_count": null,
   "metadata": {},
   "outputs": [],
   "source": []
  },
  {
   "cell_type": "code",
   "execution_count": null,
   "metadata": {},
   "outputs": [],
   "source": []
  },
  {
   "cell_type": "code",
   "execution_count": null,
   "metadata": {},
   "outputs": [],
   "source": []
  },
  {
   "cell_type": "code",
   "execution_count": null,
   "metadata": {},
   "outputs": [],
   "source": []
  },
  {
   "cell_type": "code",
   "execution_count": null,
   "metadata": {},
   "outputs": [],
   "source": []
  },
  {
   "cell_type": "code",
   "execution_count": null,
   "metadata": {},
   "outputs": [],
   "source": []
  },
  {
   "cell_type": "code",
   "execution_count": null,
   "metadata": {},
   "outputs": [],
   "source": []
  },
  {
   "cell_type": "code",
   "execution_count": null,
   "metadata": {},
   "outputs": [],
   "source": []
  }
 ],
 "metadata": {
  "kernelspec": {
   "display_name": "Python 3",
   "language": "python",
   "name": "python3"
  },
  "language_info": {
   "codemirror_mode": {
    "name": "ipython",
    "version": 3
   },
   "file_extension": ".py",
   "mimetype": "text/x-python",
   "name": "python",
   "nbconvert_exporter": "python",
   "pygments_lexer": "ipython3",
   "version": "3.8.3"
  }
 },
 "nbformat": 4,
 "nbformat_minor": 4
}

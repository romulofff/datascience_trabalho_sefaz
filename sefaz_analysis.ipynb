{
 "cells": [
  {
   "cell_type": "code",
   "execution_count": 16,
   "metadata": {},
   "outputs": [],
   "source": [
    "import pandas as pd\n",
    "import PyPDF2 "
   ]
  },
  {
   "cell_type": "code",
   "execution_count": 22,
   "metadata": {},
   "outputs": [],
   "source": [
    "pdf_file = open(\"data/a.pdf\", 'rb')\n",
    "pdf = PyPDF2.PdfFileReader(pdf_file) "
   ]
  },
  {
   "cell_type": "code",
   "execution_count": 24,
   "metadata": {},
   "outputs": [
    {
     "data": {
      "text/plain": [
       "4"
      ]
     },
     "execution_count": 24,
     "metadata": {},
     "output_type": "execute_result"
    }
   ],
   "source": [
    "pdf.numPages"
   ]
  },
  {
   "cell_type": "code",
   "execution_count": 28,
   "metadata": {},
   "outputs": [],
   "source": [
    "page = pdf.getPage(0)"
   ]
  },
  {
   "cell_type": "code",
   "execution_count": 30,
   "metadata": {},
   "outputs": [
    {
     "data": {
      "text/plain": [
       "'AJUSTE SINIEF \\n19\\n, DE \\n7 DE NOVEMBRO DE 2012\\n      \\nPublicado no DOU de 09.11.12 \\n  Dispõe sobre procedimentos a serem observados na \\naplicação da tributação pelo ICMS prevista na Resol\\nução \\ndo Senado Federal nº 13, de 25 de abril de 2012.\\n   O Conselho Nacional de Política Fazendária - CONFAZ\\n,\\n na sua 183ª \\nreunião extraordinária, \\nrealizada em Brasília, DF, no dia 7 de novembro de \\n2012, conforme os arts. 102 e 199 do Código Tributá\\nrio \\nNacional (Lei n° 5.172, de 25 de outubro de 1966), \\ne tendo em vista o disposto na Resolução do Senado \\nFederal nº 13, de 25 de abril de 2012, resolve cele\\nbrar o seguinte\\n A J U S T E\\n   Cláusula primeira \\nA tributação do Imposto sobre Operações Relativas à \\nCirculação de \\nMercadorias e sobre Prestações de Serviços de Trans\\nporte Interestadual e Intermunicipal e de Comunicaç\\não -\\nICMS - de que trata a Resolução do Senado Federal n\\nº 13, de 25 de abril de 2012, dar-se-\\ná com a observância \\nao disposto neste ajuste.\\n    Cláusula segunda \\nA alíquota do ICMS de 4% (quatro por cento) aplica-\\nse nas operações \\ninterestaduais com bens e mercadorias importados do\\n exterior que, após o desembaraço aduaneiro:\\n   I - não tenham sido submetidos a processo de indust\\nrialização;\\n   II - \\nainda que submetidos a processo de transformação, b\\neneficiamento, montagem, \\nacondicionamento, reacondicionamento renovação ou r\\necondicionamento, resultem em mercadorias ou bens \\ncom Conteúdo de Importação superior a 40% (quarenta\\n por cento).\\n   Cláusula terceira \\nNão se aplica a alíquota do ICMS de 4% (quatro por \\ncento) nas operações \\ninterestaduais com:\\n   I - \\nbens e mercadorias importados do exterior que não t\\nenham similar nacional, definidos em lista \\neditada pelo Conselho de Ministros da Câmara de Com\\nércio Exterior - CAMEX - \\npara os fins da Resolução do \\nSenado Federal nº 13/2012;\\n   II - \\nbens e mercadorias produzidos em conformidade com o\\ns processos produtivos básicos de que \\ntratam o Decreto-Lei nº 288, de 28 de fevereiro de \\n1967, e as Leis nº\\ns 8.248, de 23 de outubro de 1991, 8.387, \\nde 30 de dezembro de 1991, 10.176, de 11 de janeiro\\n de 2001, e 11.484, de 31 de maio de 2007;\\n   III - gás natural importado do exterior.\\n   Cláusula quarta\\n Conteúdo de Importação é o percentual corresponden\\nte ao quociente entre o \\nvalor da parcela importada do exterior e o valor to\\ntal da operação de saída interestadual da mercadori\\na ou bem \\nsubmetido a processo de industrialização.\\n   § 1º \\nO Conteúdo de Importação deverá ser recalculado sem\\npre que, após sua última aferição, a \\nmercadoria ou bem objeto de operação interestadual \\ntenha sido submetido a novo processo de \\nindustrialização.\\n   § 2º\\n Considera-se:\\n   I - \\nvalor da parcela importada do exterior, o valor da \\nimportação que corresponde ao valor da base \\nde cálculo do ICMS incidente na operação de importa\\nção conforme descrito no art. 13, inciso V, da Lei \\nComplementar nº 87, de 13 de setembro de 1996;\\n   II - \\nvalor total da operação de saída interestadual, o v\\nalor total do bem ou da mercadoria incluídos \\nos tributos incidentes na operação própria do remet\\nente.\\n   Cláusula quinta\\n No caso de operações com bens ou mercadorias impor\\ntados\\n que tenham sido \\nsubmetidos a processo de industrialização, o contri\\nbuinte industrializador deverá preencher a Ficha de\\n \\nConteúdo de Importação - FCI, conforme modelo do An\\nexo Único, na qual deverá constar:\\n I - descrição da mercadoria ou bem resultante do pr\\nocesso de industrialização;\\n II  - o código de classificação na Nomenclatura Com\\num do MERCOSUL - NCM/SH;\\n III Œ código do bem ou da mercadoria; \\n IV -  o código GTIN (Numeração Global de Item Comer\\ncial), quando o bem ou mercadoria possuir;\\n '"
      ]
     },
     "execution_count": 30,
     "metadata": {},
     "output_type": "execute_result"
    }
   ],
   "source": [
    "text = page.extractText()\n",
    "text"
   ]
  }
 ],
 "metadata": {
  "kernelspec": {
   "display_name": "Python 3",
   "language": "python",
   "name": "python3"
  },
  "language_info": {
   "codemirror_mode": {
    "name": "ipython",
    "version": 3
   },
   "file_extension": ".py",
   "mimetype": "text/x-python",
   "name": "python",
   "nbconvert_exporter": "python",
   "pygments_lexer": "ipython3",
   "version": "3.7.6"
  }
 },
 "nbformat": 4,
 "nbformat_minor": 2
}
